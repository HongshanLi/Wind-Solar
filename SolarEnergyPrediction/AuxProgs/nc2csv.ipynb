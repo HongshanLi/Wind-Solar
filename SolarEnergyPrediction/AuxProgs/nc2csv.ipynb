{
 "cells": [
  {
   "cell_type": "code",
   "execution_count": 1,
   "metadata": {},
   "outputs": [],
   "source": [
    "from netCDF4 import Dataset\n",
    "import numpy as np\n",
    "import matplotlib.pyplot as plt\n",
    "import os\n",
    "\n",
    "data_loc = \"/home/hongshan/Dataset/SolarEnergy\"\n",
    "var = os.listdir(data_loc)[0]\n",
    "dataset = Dataset(os.path.join(data_loc, var))\n",
    "keys = dataset.dimensions.keys()"
   ]
  },
  {
   "cell_type": "code",
   "execution_count": 3,
   "metadata": {
    "collapsed": true
   },
   "outputs": [],
   "source": [
    "time = dataset.variables['time']\n",
    "lat = dataset.variables['lat']\n",
    "lon = dataset.variables['lon']\n",
    "ens = dataset.variables['ens']\n",
    "fhour = dataset.variables['fhour']"
   ]
  },
  {
   "cell_type": "code",
   "execution_count": 4,
   "metadata": {},
   "outputs": [
    {
     "data": {
      "text/plain": [
       "(5113, 11, 5, 9, 16)"
      ]
     },
     "execution_count": 4,
     "metadata": {},
     "output_type": "execute_result"
    }
   ],
   "source": [
    "values = dataset.variables.values()\n",
    "values_var = values[-1]\n",
    "values_var = np.array(values_var)\n",
    "values_var.shape"
   ]
  },
  {
   "cell_type": "code",
   "execution_count": 17,
   "metadata": {},
   "outputs": [
    {
     "name": "stdout",
     "output_type": "stream",
     "text": [
      "[ 254.  255.  256.  257.  258.  259.  260.  261.  262.  263.  264.  265.\n",
      "  266.  267.  268.  269.]\n",
      "[ 31.  32.  33.  34.  35.  36.  37.  38.  39.]\n",
      "[ 1700568.  1700592.  1700616. ...,  1823208.  1823232.  1823256.]\n"
     ]
    }
   ],
   "source": [
    "a = lon.__array__()\n",
    "b = lat.__array__()\n",
    "c = time.__array__()\n",
    "\n",
    "\n",
    "#print(np.scalar(np.where(a==256)))\n",
    "print(a)\n",
    "print(b)\n",
    "print(c)"
   ]
  },
  {
   "cell_type": "code",
   "execution_count": 63,
   "metadata": {
    "collapsed": true
   },
   "outputs": [],
   "source": [
    "def get_variable(var_path, time, lat, lon):\n",
    "    # Arguments: indices of time, lat, lon\n",
    "    # lat level: 9\n",
    "    # lon level: 16\n",
    "    # time level: 5113\n",
    "    # Return: 5 measurements of the variable at the given lat, lon and time\n",
    "    dataset = Dataset(var_path)\n",
    "    values = dataset.variables.values()[-1]\n",
    "    values = np.array(values)\n",
    "    values = values.mean(axis=1) # take the mean of 11 emsemble of models\n",
    "    return values[time,:,lat,lon].reshape(1, -1)\n",
    "\n",
    "def group_variables(data_loc, time, lat, lon):\n",
    "    # Arguments: \n",
    "    #    directory of all nc files\n",
    "    #    fixed time\n",
    "    #    fixed lat\n",
    "    #    fixed lon\n",
    "    # Return:\n",
    "    #    numpy array of shape (5,15) \n",
    "    #    axis 0 means 5 measuresments, axis 1 means 15 variablesre\n",
    "    all_vars = []\n",
    "    for var in os.listdir(data_loc):\n",
    "        var_path = os.path.join(data_loc, var)\n",
    "        all_vars.append(get_variable(var_path, time, lat, lon))\n",
    "        \n",
    "    return np.concatenate(all_vars, axis=0).transpose()\n",
    "    "
   ]
  },
  {
   "cell_type": "code",
   "execution_count": 64,
   "metadata": {},
   "outputs": [
    {
     "data": {
      "text/plain": [
       "array([[  2.46765396e+02,   1.02251094e+05,   2.78509796e+02,\n",
       "          0.00000000e+00,   4.01719287e-03,   5.68828392e+00,\n",
       "          0.00000000e+00,   2.55516830e+02,   3.33394928e+02,\n",
       "          0.00000000e+00,   2.75605682e+02,   2.80953400e+02,\n",
       "          2.78494690e+02,   6.36363620e-05,   0.00000000e+00],\n",
       "       [  2.38787094e+02,   1.02441000e+05,   2.77290802e+02,\n",
       "          5.00000000e+00,   3.96183599e-03,   5.57272673e+00,\n",
       "          0.00000000e+00,   2.50413559e+02,   3.24886108e+02,\n",
       "          0.00000000e+00,   2.76441284e+02,   2.78463837e+02,\n",
       "          2.78166748e+02,   6.36363620e-05,   1.00000000e+01],\n",
       "       [  2.41719955e+02,   1.02374555e+05,   2.77292877e+02,\n",
       "          5.90000000e+01,   3.85650783e-03,   5.97898149e+00,\n",
       "          0.00000000e+00,   2.54760254e+02,   3.47171570e+02,\n",
       "          0.00000000e+00,   2.90654022e+02,   2.83182312e+02,\n",
       "          2.83206421e+02,   1.18181815e-04,   2.10000000e+02],\n",
       "       [  2.61832245e+02,   1.02046875e+05,   2.83306061e+02,\n",
       "          1.57090912e+02,   3.85327497e-03,   6.44545460e+00,\n",
       "          0.00000000e+00,   2.77796906e+02,   4.21137695e+02,\n",
       "          2.72727269e-03,   2.93914276e+02,   2.86572571e+02,\n",
       "          2.86568329e+02,   2.13636365e-03,   6.21818176e+02],\n",
       "       [  2.63013824e+02,   1.01976000e+05,   2.83286957e+02,\n",
       "          1.22818184e+02,   4.01818193e-03,   6.68241453e+00,\n",
       "          0.00000000e+00,   2.74613281e+02,   4.08735809e+02,\n",
       "          0.00000000e+00,   2.82218262e+02,   2.86985809e+02,\n",
       "          2.83798157e+02,   3.27272690e-04,   4.60000000e+02]], dtype=float32)"
      ]
     },
     "execution_count": 64,
     "metadata": {},
     "output_type": "execute_result"
    }
   ],
   "source": [
    "group_variables(data_loc, time=0, lat=0, lon=0)"
   ]
  },
  {
   "cell_type": "code",
   "execution_count": 19,
   "metadata": {
    "collapsed": true
   },
   "outputs": [],
   "source": [
    "\n",
    "\n",
    "\n",
    "\n",
    "\n",
    "# load all nc files into ram\n",
    "# get all the values\n",
    "def load_data(data_loc):\n",
    "    variables = []\n",
    "    for var in os.listdir(data_loc):\n",
    "        var_path = os.path.join(data_loc, var)\n",
    "        data = Dataset(var_path)\n",
    "        dataset = Dataset(var_path)\n",
    "        values = dataset.variables.values()[-1]\n",
    "        values = np.array(values)\n",
    "        values = values.mean(axis=1) # take mean of emsemble of models\n",
    "        variables.append(values)\n",
    "    return variables\n",
    "\n",
    "all_variables = load_data(data_loc)"
   ]
  },
  {
   "cell_type": "code",
   "execution_count": 20,
   "metadata": {
    "collapsed": true
   },
   "outputs": [],
   "source": [
    "def check_index(latt, longi):\n",
    "    lat_idx = np.where(lat.__array__() == latt)\n",
    "    lon_idx = np.where(lon.__array__() == longi)\n",
    "    return lat_idx, lon_idx\n",
    "    \n",
    "    \n",
    "\n",
    "def get_variable(var, time, lat, lon):\n",
    "    # Arguments: indices of time, lat, lon\n",
    "    # lat level: 9\n",
    "    # lon level: 16\n",
    "    # time level: 5113\n",
    "    # Return: 5 measurements of the variable at the given lat, lon and time\n",
    "    # take the mean of 11 emsemble of models\n",
    "    lat_idx, lon_idx = check_index(lat, lon)\n",
    "    return var[time,:,lat_idx,lon_idx].reshape(1, -1)\n",
    "\n",
    "def group_variables(list_of_variables, time, lat, lon):\n",
    "    # Arguments: \n",
    "    #    directory of all nc files\n",
    "    #    fixed time\n",
    "    #    fixed lat\n",
    "    #    fixed lon\n",
    "    # Return:\n",
    "    #    numpy array of shape (5,15) \n",
    "    #    axis 0 means 5 measuresments, axis 1 means 15 variablesre\n",
    "    all_vars = []\n",
    "    for var in list_of_variables:\n",
    "        all_vars.append(get_variable(var, time, lat, lon))\n",
    "        \n",
    "    return np.concatenate(all_vars, axis=0).transpose()"
   ]
  },
  {
   "cell_type": "code",
   "execution_count": 21,
   "metadata": {},
   "outputs": [
    {
     "data": {
      "text/plain": [
       "array([[ 234.31085205,  223.33256531,  226.90176392,  248.01405334,\n",
       "         249.46836853]], dtype=float32)"
      ]
     },
     "execution_count": 21,
     "metadata": {},
     "output_type": "execute_result"
    }
   ],
   "source": [
    "get_variable(all_variables[0], time=0, lat=32, lon=254)"
   ]
  },
  {
   "cell_type": "code",
   "execution_count": null,
   "metadata": {
    "collapsed": true
   },
   "outputs": [],
   "source": []
  }
 ],
 "metadata": {
  "kernelspec": {
   "display_name": "python 2",
   "language": "python",
   "name": "python2"
  },
  "language_info": {
   "codemirror_mode": {
    "name": "ipython",
    "version": 2
   },
   "file_extension": ".py",
   "mimetype": "text/x-python",
   "name": "python",
   "nbconvert_exporter": "python",
   "pygments_lexer": "ipython2",
   "version": "2.7.13"
  }
 },
 "nbformat": 4,
 "nbformat_minor": 2
}
