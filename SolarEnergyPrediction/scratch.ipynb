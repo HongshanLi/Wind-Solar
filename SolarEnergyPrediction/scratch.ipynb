{
 "cells": [
  {
   "cell_type": "code",
   "execution_count": 30,
   "metadata": {},
   "outputs": [],
   "source": [
    "import Mesonet\n",
    "reload(Mesonet)\n",
    "n=Mesonet.WeatherData()"
   ]
  },
  {
   "cell_type": "code",
   "execution_count": 55,
   "metadata": {},
   "outputs": [],
   "source": [
    "# I want a 2d array of a single variable from all locations\n",
    "# [[d254,31, ..., d268,31], [d254,32, ...d268,32]]\n",
    "import numpy as np\n",
    "from scipy.interpolate import interp2d\n",
    "\n",
    "def data_on_meshgrid(var, time):\n",
    "    mesh_grid_data = []\n",
    "    for lat in n.lat.__array__():\n",
    "        along_lat = []\n",
    "        for lon in n.lon.__array__():\n",
    "            along_lat.append(n._get_single_variable(var,time, lat, lon))\n",
    "        mesh_grid_data.append(along_lat)\n",
    "    return np.array(mesh_grid_data)\n",
    "\n",
    "def interpolate_single_variable_for_one_day(var, time, lat, lon):\n",
    "    d = data_on_meshgrid(var, time)\n",
    "    x_coord = n.lon.__array__()\n",
    "    y_coord = n.lat.__array__()\n",
    "    interpolator = []\n",
    "    for fhour in range(5):\n",
    "        interpolator.append(interp2d(x_coord, y_coord, d[:,:,fhour], kind=\"linear\"))\n",
    "    \n",
    "    interpolated_data = []\n",
    "    for fhour in range(5):\n",
    "        interpolated_data.append(interpolator[fhour](lon, lat))\n",
    "        \n",
    "    return np.array(interpolated_data).flatten()\n",
    "    \n",
    "    \n",
    "\n",
    "def interpolate_for_one_day(time, lat, lon):\n",
    "    interpolated_variables = []\n",
    "    for var in n.all_features:\n",
    "        interpolated_variables.append(interpolate_single_variable_for_one_day(var, time, lat, lon))\n",
    "    return np.array(interpolated_variables).transpose()\n",
    "        "
   ]
  },
  {
   "cell_type": "code",
   "execution_count": 56,
   "metadata": {},
   "outputs": [],
   "source": [
    "w = interpolate_for_one_day(0, 35.36, 263.05)"
   ]
  },
  {
   "cell_type": "code",
   "execution_count": 57,
   "metadata": {},
   "outputs": [
    {
     "data": {
      "text/plain": [
       "array([[  2.65932677e+02,   1.01822738e+05,   2.78998074e+02,\n",
       "          0.00000000e+00,   3.10471822e-03,   6.41992033e+00,\n",
       "          0.00000000e+00,   2.24204096e+02,   3.40982555e+02,\n",
       "          2.30909075e-03,   2.77164928e+02,   2.80810361e+02,\n",
       "          2.79034796e+02,   1.93729082e-03,   0.00000000e+00],\n",
       "       [  2.44880911e+02,   1.02044084e+05,   2.78190119e+02,\n",
       "          9.64327272e+00,   3.14038730e-03,   7.43381798e+00,\n",
       "          0.00000000e+00,   2.51293367e+02,   3.34234085e+02,\n",
       "          2.32727244e-04,   2.79035097e+02,   2.79319536e+02,\n",
       "          2.79321146e+02,   1.12229091e-03,   3.03200000e+01],\n",
       "       [  2.51386682e+02,   1.02089549e+05,   2.78191848e+02,\n",
       "          4.92020000e+01,   3.79778972e-03,   8.71107220e+00,\n",
       "          0.00000000e+00,   2.53437706e+02,   3.53264106e+02,\n",
       "          5.81818186e-05,   2.88326167e+02,   2.85136282e+02,\n",
       "          2.85157910e+02,   7.47327315e-04,   2.16720000e+02],\n",
       "       [  2.68235514e+02,   1.01938179e+05,   2.85208066e+02,\n",
       "          1.05294724e+02,   3.90017692e-03,   9.59743616e+00,\n",
       "          0.00000000e+00,   2.61531649e+02,   3.94704051e+02,\n",
       "          0.00000000e+00,   2.87964663e+02,   2.86135022e+02,\n",
       "          2.86065512e+02,   9.66581788e-04,   5.02800000e+02],\n",
       "       [  2.66776925e+02,   1.02005357e+05,   2.80425623e+02,\n",
       "          7.09898189e+01,   3.86697481e-03,   9.90556056e+00,\n",
       "          0.00000000e+00,   2.58195833e+02,   3.80196706e+02,\n",
       "          1.82909092e-03,   2.78079304e+02,   2.86139464e+02,\n",
       "          2.80422619e+02,   2.79794543e-03,   3.26220000e+02]])"
      ]
     },
     "execution_count": 57,
     "metadata": {},
     "output_type": "execute_result"
    }
   ],
   "source": [
    "w"
   ]
  },
  {
   "cell_type": "code",
   "execution_count": null,
   "metadata": {
    "collapsed": true
   },
   "outputs": [],
   "source": []
  }
 ],
 "metadata": {
  "kernelspec": {
   "display_name": "python 2",
   "language": "python",
   "name": "python2"
  },
  "language_info": {
   "codemirror_mode": {
    "name": "ipython",
    "version": 2
   },
   "file_extension": ".py",
   "mimetype": "text/x-python",
   "name": "python",
   "nbconvert_exporter": "python",
   "pygments_lexer": "ipython2",
   "version": "2.7.13"
  }
 },
 "nbformat": 4,
 "nbformat_minor": 2
}
