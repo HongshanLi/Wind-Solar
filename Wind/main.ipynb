{
 "cells": [
  {
   "cell_type": "code",
   "execution_count": 1,
   "metadata": {
    "collapsed": true
   },
   "outputs": [],
   "source": [
    "#!/usr/bin/python2.7\n",
    "\n",
    "import numpy as np\n",
    "import pandas as pd\n",
    "from WindPackages import download, pre_clean, clean, trainNN\n"
   ]
  },
  {
   "cell_type": "code",
   "execution_count": 2,
   "metadata": {
    "scrolled": true
   },
   "outputs": [
    {
     "name": "stdout",
     "output_type": "stream",
     "text": [
      "download data...\n",
      "Enter Kaggle username (None): xxxxx\n",
      "Enter Kaggle password (None): ········\n",
      "Enter Kaggle competition (GEF2012-wind-forecasting): \n",
      "Enter Kaggle files (['train.csv', 'benchmark.csv', 'windforecasts_wf1.csv', 'windforecasts_wf2.csv', 'windforecasts_wf3.csv', 'windforecasts_wf4.csv', 'windforecasts_wf5.csv', 'windforecasts_wf6.csv', 'windforecasts_wf7.csv']): \n",
      "Enter local directory (./data/raw/): \n",
      "train.csv fetched.\n",
      "benchmark.csv fetched.\n",
      "windforecasts_wf1.csv fetched.\n",
      "windforecasts_wf2.csv fetched.\n",
      "windforecasts_wf3.csv fetched.\n",
      "windforecasts_wf4.csv fetched.\n",
      "windforecasts_wf5.csv fetched.\n",
      "windforecasts_wf6.csv fetched.\n",
      "windforecasts_wf7.csv fetched.\n",
      "Done. Time = 0m 05.02s.\n"
     ]
    }
   ],
   "source": [
    "print \"download data...\"\n",
    "download.download_data()"
   ]
  },
  {
   "cell_type": "code",
   "execution_count": 3,
   "metadata": {},
   "outputs": [
    {
     "name": "stdout",
     "output_type": "stream",
     "text": [
      "Enter raw data directory ./data/raw/): \n",
      "Enter pre_cleaned data directory (./data/pre_cleaned/):\n",
      "Output pre_cleaned data for wf1.\n",
      "Output pre_cleaned data for wf2.\n",
      "Output pre_cleaned data for wf3.\n",
      "Output pre_cleaned data for wf4.\n",
      "Output pre_cleaned data for wf5.\n",
      "Output pre_cleaned data for wf6.\n",
      "Output pre_cleaned data for wf7.\n",
      "Done. Time = 3m 48.34s.\n"
     ]
    }
   ],
   "source": [
    "print \"pre-clean data...\"\n",
    "\n",
    "pre_clean.pre_clean_data()"
   ]
  },
  {
   "cell_type": "code",
   "execution_count": 3,
   "metadata": {},
   "outputs": [
    {
     "name": "stdout",
     "output_type": "stream",
     "text": [
      "post-clean data...\n",
      "Enter pre_cleaned data directory ./data/pre_cleaned/): \n",
      "Enter cleaned data directory (./data/cleaned/):\n",
      "train_wf1.csv is cleaned.\n",
      "benchmark_wf1.csv is cleaned.\n",
      "train_wf2.csv is cleaned.\n",
      "benchmark_wf2.csv is cleaned.\n",
      "train_wf3.csv is cleaned.\n",
      "benchmark_wf3.csv is cleaned.\n",
      "train_wf4.csv is cleaned.\n",
      "benchmark_wf4.csv is cleaned.\n",
      "train_wf5.csv is cleaned.\n",
      "benchmark_wf5.csv is cleaned.\n",
      "train_wf6.csv is cleaned.\n",
      "benchmark_wf6.csv is cleaned.\n",
      "train_wf7.csv is cleaned.\n",
      "benchmark_wf7.csv is cleaned.\n",
      "Done. Time = 0m 02.98s.\n"
     ]
    }
   ],
   "source": [
    "print \"post-clean data...\"\n",
    "\n",
    "clean.post_clean_data()"
   ]
  },
  {
   "cell_type": "code",
   "execution_count": 4,
   "metadata": {},
   "outputs": [
    {
     "name": "stdout",
     "output_type": "stream",
     "text": [
      "train with neural network from sklearn...\n",
      "Enter cleaned data directory (./data/cleaned/):\n",
      "MSE for wf1: 0.168695549709\n",
      "MSE for wf2: 0.169352462772\n",
      "MSE for wf3: 0.169039088456\n",
      "MSE for wf4: 0.156383253332\n",
      "MSE for wf5: 0.169575511113\n",
      "MSE for wf6: 0.145806164528\n",
      "MSE for wf7: 0.151102889876\n",
      "MSE for all: 0.161694489437\n",
      "Done. Time = 0m 07.78s.\n"
     ]
    }
   ],
   "source": [
    "print \"train with neural network from sklearn...\"\n",
    "trainNN.train_nn()"
   ]
  },
  {
   "cell_type": "code",
   "execution_count": 5,
   "metadata": {},
   "outputs": [
    {
     "name": "stdout",
     "output_type": "stream",
     "text": [
      "trained with neural network from Hongshan...\n",
      "Enter cleaned data directory (./data/cleaned/):\n",
      "For wf1\n"
     ]
    },
    {
     "name": "stderr",
     "output_type": "stream",
     "text": [
      "WindPackages/neural_network.py:43: RuntimeWarning: overflow encountered in exp\n",
      "  return 1.0 / (1.0 + np.exp(array))\n"
     ]
    },
    {
     "name": "stdout",
     "output_type": "stream",
     "text": [
      "Average error of epoch 0\n",
      "0.00823994608952\n",
      "Average error of epoch 1\n",
      "2.74669945842e-16\n",
      "Performance on the test set\n",
      "0.0362109794892\n",
      "For wf2\n",
      "Average error of epoch 0\n",
      "0.00414474774135\n",
      "Average error of epoch 1\n",
      "5.35132825519e-17\n",
      "Performance on the test set\n",
      "0.0181125769985\n",
      "For wf3\n",
      "Average error of epoch 0\n",
      "0.0112800286574\n",
      "Average error of epoch 1\n",
      "2.06002459381e-17\n",
      "Performance on the test set\n",
      "0.0175978031102\n",
      "For wf4\n",
      "Average error of epoch 0\n",
      "0.0113861179219\n",
      "Average error of epoch 1\n",
      "1.32392097818e-16\n",
      "Performance on the test set\n",
      "0.0320554320375\n",
      "For wf5\n",
      "Average error of epoch 0\n",
      "0.0127117545965\n",
      "Average error of epoch 1\n",
      "3.29130366138e-17\n",
      "Performance on the test set\n",
      "0.0516774363958\n",
      "For wf6\n",
      "Average error of epoch 0\n",
      "0.0110649211469\n",
      "Average error of epoch 1\n",
      "8.96229090527e-17\n",
      "Performance on the test set\n",
      "0.0413823282533\n",
      "For wf7\n",
      "Average error of epoch 0\n",
      "0.00424547857662\n",
      "Average error of epoch 1\n",
      "6.92594475506e-18\n",
      "Performance on the test set\n",
      "0.0188829211747\n",
      "MSE for all: 0.0332010178732\n",
      "Done. Time = 1m 31.16s.\n"
     ]
    }
   ],
   "source": [
    "print \"trained with neural network from Hongshan...\"\n",
    "trainNN.train_nn2()"
   ]
  }
 ],
 "metadata": {
  "kernelspec": {
   "display_name": "Python 2",
   "language": "python",
   "name": "python2"
  },
  "language_info": {
   "codemirror_mode": {
    "name": "ipython",
    "version": 2
   },
   "file_extension": ".py",
   "mimetype": "text/x-python",
   "name": "python",
   "nbconvert_exporter": "python",
   "pygments_lexer": "ipython2",
   "version": "2.7.13"
  }
 },
 "nbformat": 4,
 "nbformat_minor": 2
}
