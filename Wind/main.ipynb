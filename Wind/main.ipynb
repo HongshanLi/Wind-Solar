{
 "cells": [
  {
   "cell_type": "code",
   "execution_count": 1,
   "metadata": {
    "collapsed": true
   },
   "outputs": [],
   "source": [
    "#!/usr/bin/python2.7\n",
    "\n",
    "import numpy as np\n",
    "import pandas as pd\n",
    "from WindPackages import download, pre_clean, clean, trainNN\n"
   ]
  },
  {
   "cell_type": "code",
   "execution_count": 2,
   "metadata": {
    "scrolled": true
   },
   "outputs": [
    {
     "name": "stdout",
     "output_type": "stream",
     "text": [
      "download data...\n",
      "Enter Kaggle username (None): XXXXX\n",
      "Enter Kaggle password (None): ········\n",
      "Enter Kaggle competition (GEF2012-wind-forecasting): \n",
      "Enter Kaggle files (['train.csv', 'benchmark.csv', 'windforecasts_wf1.csv', 'windforecasts_wf2.csv', 'windforecasts_wf3.csv', 'windforecasts_wf4.csv', 'windforecasts_wf5.csv', 'windforecasts_wf6.csv', 'windforecasts_wf7.csv']): \n",
      "Enter local directory (./data/raw/): \n",
      "train.csv fetched.\n",
      "benchmark.csv fetched.\n",
      "windforecasts_wf1.csv fetched.\n",
      "windforecasts_wf2.csv fetched.\n",
      "windforecasts_wf3.csv fetched.\n",
      "windforecasts_wf4.csv fetched.\n",
      "windforecasts_wf5.csv fetched.\n",
      "windforecasts_wf6.csv fetched.\n",
      "windforecasts_wf7.csv fetched.\n",
      "Done. Time = 0m 09.47s.\n"
     ]
    }
   ],
   "source": [
    "print \"download data...\"\n",
    "download.download_data()"
   ]
  },
  {
   "cell_type": "code",
   "execution_count": 3,
   "metadata": {},
   "outputs": [
    {
     "name": "stdout",
     "output_type": "stream",
     "text": [
      "pre-clean data...\n",
      "Enter raw data directory ./data/raw/): \n",
      "Enter pre_cleaned data directory (./data/pre_cleaned/):\n",
      "Output pre_cleaned data for wf1.\n",
      "Output pre_cleaned data for wf2.\n",
      "Output pre_cleaned data for wf3.\n",
      "Output pre_cleaned data for wf4.\n",
      "Output pre_cleaned data for wf5.\n",
      "Output pre_cleaned data for wf6.\n",
      "Output pre_cleaned data for wf7.\n",
      "Done. Time = 2m 54.46s.\n"
     ]
    }
   ],
   "source": [
    "print \"pre-clean data...\"\n",
    "\n",
    "pre_clean.pre_clean_data()"
   ]
  },
  {
   "cell_type": "code",
   "execution_count": 4,
   "metadata": {},
   "outputs": [
    {
     "name": "stdout",
     "output_type": "stream",
     "text": [
      "post-clean data...\n",
      "Enter pre_cleaned data directory ./data/pre_cleaned/): \n",
      "Enter cleaned data directory (./data/cleaned/):\n",
      "train_wf1.csv is cleaned.\n",
      "benchmark_wf1.csv is cleaned.\n",
      "train_wf2.csv is cleaned.\n",
      "benchmark_wf2.csv is cleaned.\n",
      "train_wf3.csv is cleaned.\n",
      "benchmark_wf3.csv is cleaned.\n",
      "train_wf4.csv is cleaned.\n",
      "benchmark_wf4.csv is cleaned.\n",
      "train_wf5.csv is cleaned.\n",
      "benchmark_wf5.csv is cleaned.\n",
      "train_wf6.csv is cleaned.\n",
      "benchmark_wf6.csv is cleaned.\n",
      "train_wf7.csv is cleaned.\n",
      "benchmark_wf7.csv is cleaned.\n",
      "Done. Time = 0m 02.90s.\n"
     ]
    }
   ],
   "source": [
    "print \"post-clean data...\"\n",
    "\n",
    "clean.post_clean_data()"
   ]
  },
  {
   "cell_type": "code",
   "execution_count": 5,
   "metadata": {},
   "outputs": [
    {
     "name": "stdout",
     "output_type": "stream",
     "text": [
      "train with neural network from sklearn...\n",
      "Enter cleaned data directory (./data/cleaned/):\n",
      "RMSE for wf1: 0.164144377574\n",
      "RMSE for wf2: 0.16986312828\n",
      "RMSE for wf3: 0.172028076849\n",
      "RMSE for wf4: 0.161300482863\n",
      "RMSE for wf5: 0.167350092526\n",
      "RMSE for wf6: 0.14876010567\n",
      "RMSE for wf7: 0.149819373564\n",
      "RMSE for all: 0.162124216591\n",
      "Done. Time = 0m 09.99s.\n"
     ]
    }
   ],
   "source": [
    "print \"train with neural network from sklearn...\"\n",
    "trainNN.train_nn()"
   ]
  },
  {
   "cell_type": "code",
   "execution_count": 6,
   "metadata": {},
   "outputs": [
    {
     "name": "stdout",
     "output_type": "stream",
     "text": [
      "trained with neural network from Hongshan...\n",
      "Enter cleaned data directory (./data/cleaned/):\n",
      "For wf1\n"
     ]
    },
    {
     "name": "stderr",
     "output_type": "stream",
     "text": [
      "WindPackages/neural_network.py:43: RuntimeWarning: overflow encountered in exp\n",
      "  return 1.0 / (1.0 + np.exp(array))\n"
     ]
    },
    {
     "name": "stdout",
     "output_type": "stream",
     "text": [
      "Average RMSE of epoch 0 : 0.272451630981\n",
      "Average RMSE of epoch 1 : 0.241994894507\n",
      "Performance on the test set (RMSE): 0.263668142858\n",
      "For wf2\n",
      "Average RMSE of epoch 0 : 0.279438334089\n",
      "Average RMSE of epoch 1 : 0.270338359292\n",
      "Performance on the test set (RMSE): 0.284493828616\n",
      "For wf3\n",
      "Average RMSE of epoch 0 : 0.325376261127\n",
      "Average RMSE of epoch 1 : 0.316439636166\n",
      "Performance on the test set (RMSE): 0.327357165252\n",
      "For wf4\n",
      "Average RMSE of epoch 0 : 0.30334058121\n",
      "Average RMSE of epoch 1 : 0.29078838377\n",
      "Performance on the test set (RMSE): 0.31191495915\n",
      "For wf5\n",
      "Average RMSE of epoch 0 : 0.291702639359\n",
      "Average RMSE of epoch 1 : 0.286370626648\n",
      "Performance on the test set (RMSE): 0.324523029469\n",
      "For wf6\n",
      "Average RMSE of epoch 0 : 0.291411185474\n",
      "Average RMSE of epoch 1 : 0.276898924838\n",
      "Performance on the test set (RMSE): 0.306838589535\n",
      "For wf7\n",
      "Average RMSE of epoch 0 : 0.316625487974\n",
      "Average RMSE of epoch 1 : 0.302441916506\n",
      "Performance on the test set (RMSE): 0.316425374579\n",
      "RMSE for all: 0.305778028227\n",
      "Done. Time = 1m 39.39s.\n"
     ]
    }
   ],
   "source": [
    "print \"trained with neural network from Hongshan...\"\n",
    "trainNN.train_nn2()"
   ]
  }
 ],
 "metadata": {
  "kernelspec": {
   "display_name": "Python 2",
   "language": "python",
   "name": "python2"
  },
  "language_info": {
   "codemirror_mode": {
    "name": "ipython",
    "version": 2
   },
   "file_extension": ".py",
   "mimetype": "text/x-python",
   "name": "python",
   "nbconvert_exporter": "python",
   "pygments_lexer": "ipython2",
   "version": "2.7.13"
  }
 },
 "nbformat": 4,
 "nbformat_minor": 2
}
